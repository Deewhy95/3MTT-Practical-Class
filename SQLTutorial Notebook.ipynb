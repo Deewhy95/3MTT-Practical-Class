{
    "metadata": {
        "kernelspec": {
            "name": "SQL",
            "display_name": "SQL",
            "language": "sql"
        },
        "language_info": {
            "name": "sql",
            "version": ""
        }
    },
    "nbformat_minor": 2,
    "nbformat": 4,
    "cells": [
        {
            "cell_type": "code",
            "source": [
                "--There is an anomaly in salary column '250 instead of 25000' \r\n",
                "-- I will correct that by updating the salary column in the employee database\r\n",
                "SELECT *\r\n",
                "FROM SQLTutorial.dbo.EmployeeSalary$\r\n",
                "WHERE Salary = 250"
            ],
            "metadata": {
                "azdata_cell_guid": "d416293f-1e6d-4b21-97df-8a972e1c5405",
                "language": "sql",
                "tags": []
            },
            "outputs": [],
            "execution_count": null
        },
        {
            "cell_type": "code",
            "source": [
                "-- update the salary column with the correct salary figure $25000\r\n",
                "UPDATE SQLTutorial.dbo.EmployeeSalary$\r\n",
                "SET Salary = 25000\r\n",
                "WHERE EmployeeID = 2167849"
            ],
            "metadata": {
                "azdata_cell_guid": "0ed08304-d465-4907-a05c-9b1abd94c35b",
                "language": "sql",
                "tags": []
            },
            "outputs": [],
            "execution_count": null
        },
        {
            "cell_type": "code",
            "source": [
                "  -- select the top 20 Minimun salary, Maximum salary and Average Salary across the dapartment\r\n",
                "SELECT Top(20) [DepartmentName],\r\n",
                "    COUNT(DepartmentName) AS Number_of_Department,\r\n",
                "    AVG(Salary) AS AverageSalary,\r\n",
                "    MIN(Salary) AS MinimumSalary,\r\n",
                "    MAX(Salary) AS MaximumSalary\r\n",
                "FROM SQLTutorial.dbo.EmployeeSalary$\r\n",
                "GROUP BY DepartmentName\r\n",
                "ORDER BY COUNT(DepartmentName) DESC"
            ],
            "metadata": {
                "azdata_cell_guid": "c77f6e05-2f43-471e-bfb0-73206d586cff",
                "language": "sql",
                "tags": []
            },
            "outputs": [
{
    "output_type": "display_data",
    "data": {
        "text/html": "(20 rows affected)"
    },
    "metadata": {}
}, {
    "output_type": "display_data",
    "data": {
        "text/html": "Total execution time: 00:00:00.910"
    },
    "metadata": {}
}, {
    "output_type": "execute_result",
    "metadata": {},
    "execution_count": 1,
    "data": {
        "application/vnd.dataresource+json": {
            "schema": {
                "fields": [
                    {
                        "name": "DepartmentName"
                    },
                    {
                        "name": "Number_of_Department"
                    },
                    {
                        "name": "AverageSalary"
                    },
                    {
                        "name": "MinimumSalary"
                    },
                    {
                        "name": "MaximumSalary"
                    }
                ]
            },
            "data": [
                {
                    "DepartmentName": "Customer Service",
                    "Number_of_Department": "1713",
                    "AverageSalary": "29896",
                    "MinimumSalary": "29500",
                    "MaximumSalary": "250000"
                },
                {
                    "DepartmentName": "Bakery",
                    "Number_of_Department": "1435",
                    "AverageSalary": "24188",
                    "MinimumSalary": "24000",
                    "MaximumSalary": "30000"
                },
                {
                    "DepartmentName": "Production       ",
                    "Number_of_Department": "208",
                    "AverageSalary": "23086",
                    "MinimumSalary": "14000",
                    "MaximumSalary": "60000"
                },
                {
                    "DepartmentName": "IT/IS",
                    "Number_of_Department": "41",
                    "AverageSalary": "48248",
                    "MinimumSalary": "21000",
                    "MaximumSalary": "200000"
                },
                {
                    "DepartmentName": "Store Management",
                    "Number_of_Department": "38",
                    "AverageSalary": "85000",
                    "MinimumSalary": "85000",
                    "MaximumSalary": "85000"
                },
                {
                    "DepartmentName": "Produce",
                    "Number_of_Department": "32",
                    "AverageSalary": "80000",
                    "MinimumSalary": "80000",
                    "MaximumSalary": "80000"
                },
                {
                    "DepartmentName": "Sales",
                    "Number_of_Department": "31",
                    "AverageSalary": "55524",
                    "MinimumSalary": "54000",
                    "MaximumSalary": "60250"
                },
                {
                    "DepartmentName": "Accounting",
                    "Number_of_Department": "18",
                    "AverageSalary": "40555",
                    "MinimumSalary": "35000",
                    "MaximumSalary": "135000"
                },
                {
                    "DepartmentName": "Accounts Receiveable",
                    "Number_of_Department": "16",
                    "AverageSalary": "41875",
                    "MinimumSalary": "35000",
                    "MaximumSalary": "115000"
                },
                {
                    "DepartmentName": "Training",
                    "Number_of_Department": "15",
                    "AverageSalary": "24000",
                    "MinimumSalary": "24000",
                    "MaximumSalary": "24000"
                },
                {
                    "DepartmentName": "Audit",
                    "Number_of_Department": "15",
                    "AverageSalary": "50000",
                    "MinimumSalary": "50000",
                    "MaximumSalary": "50000"
                },
                {
                    "DepartmentName": "Accounts Payable",
                    "Number_of_Department": "15",
                    "AverageSalary": "40333",
                    "MinimumSalary": "35000",
                    "MaximumSalary": "115000"
                },
                {
                    "DepartmentName": "HR Technology",
                    "Number_of_Department": "14",
                    "AverageSalary": "67500",
                    "MinimumSalary": "65000",
                    "MaximumSalary": "100000"
                },
                {
                    "DepartmentName": "Recruitment",
                    "Number_of_Department": "14",
                    "AverageSalary": "17500",
                    "MinimumSalary": "15000",
                    "MaximumSalary": "50000"
                },
                {
                    "DepartmentName": "Employee Records",
                    "Number_of_Department": "12",
                    "AverageSalary": "63333",
                    "MinimumSalary": "60000",
                    "MaximumSalary": "100000"
                },
                {
                    "DepartmentName": "Labor Relations",
                    "Number_of_Department": "12",
                    "AverageSalary": "61250",
                    "MinimumSalary": "55000",
                    "MaximumSalary": "130000"
                },
                {
                    "DepartmentName": "Executive",
                    "Number_of_Department": "11",
                    "AverageSalary": "127272",
                    "MinimumSalary": "70000",
                    "MaximumSalary": "250000"
                },
                {
                    "DepartmentName": "Software Engineering",
                    "Number_of_Department": "10",
                    "AverageSalary": "48665",
                    "MinimumSalary": "27000",
                    "MaximumSalary": "57120"
                },
                {
                    "DepartmentName": "Information Technology",
                    "Number_of_Department": "10",
                    "AverageSalary": "60000",
                    "MinimumSalary": "60000",
                    "MaximumSalary": "60000"
                },
                {
                    "DepartmentName": "Admin Offices",
                    "Number_of_Department": "10",
                    "AverageSalary": "32100",
                    "MinimumSalary": "17000",
                    "MaximumSalary": "55000"
                }
            ]
        },
        "text/html": [
            "<table>",
            "<tr><th>DepartmentName</th><th>Number_of_Department</th><th>AverageSalary</th><th>MinimumSalary</th><th>MaximumSalary</th></tr>",
            "<tr><td>Customer Service</td><td>1713</td><td>29896</td><td>29500</td><td>250000</td></tr>",
            "<tr><td>Bakery</td><td>1435</td><td>24188</td><td>24000</td><td>30000</td></tr>",
            "<tr><td>Production       </td><td>208</td><td>23086</td><td>14000</td><td>60000</td></tr>",
            "<tr><td>IT/IS</td><td>41</td><td>48248</td><td>21000</td><td>200000</td></tr>",
            "<tr><td>Store Management</td><td>38</td><td>85000</td><td>85000</td><td>85000</td></tr>",
            "<tr><td>Produce</td><td>32</td><td>80000</td><td>80000</td><td>80000</td></tr>",
            "<tr><td>Sales</td><td>31</td><td>55524</td><td>54000</td><td>60250</td></tr>",
            "<tr><td>Accounting</td><td>18</td><td>40555</td><td>35000</td><td>135000</td></tr>",
            "<tr><td>Accounts Receiveable</td><td>16</td><td>41875</td><td>35000</td><td>115000</td></tr>",
            "<tr><td>Training</td><td>15</td><td>24000</td><td>24000</td><td>24000</td></tr>",
            "<tr><td>Audit</td><td>15</td><td>50000</td><td>50000</td><td>50000</td></tr>",
            "<tr><td>Accounts Payable</td><td>15</td><td>40333</td><td>35000</td><td>115000</td></tr>",
            "<tr><td>HR Technology</td><td>14</td><td>67500</td><td>65000</td><td>100000</td></tr>",
            "<tr><td>Recruitment</td><td>14</td><td>17500</td><td>15000</td><td>50000</td></tr>",
            "<tr><td>Employee Records</td><td>12</td><td>63333</td><td>60000</td><td>100000</td></tr>",
            "<tr><td>Labor Relations</td><td>12</td><td>61250</td><td>55000</td><td>130000</td></tr>",
            "<tr><td>Executive</td><td>11</td><td>127272</td><td>70000</td><td>250000</td></tr>",
            "<tr><td>Software Engineering</td><td>10</td><td>48665</td><td>27000</td><td>57120</td></tr>",
            "<tr><td>Information Technology</td><td>10</td><td>60000</td><td>60000</td><td>60000</td></tr>",
            "<tr><td>Admin Offices</td><td>10</td><td>32100</td><td>17000</td><td>55000</td></tr>",
            "</table>"
        ]
    }
}
],
            "execution_count": 1
        }
    ]
}